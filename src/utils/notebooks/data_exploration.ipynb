{
 "cells": [
  {
   "cell_type": "code",
   "execution_count": 1,
   "id": "7e659022",
   "metadata": {},
   "outputs": [],
   "source": [
    "import fastf1\n",
    "import pandas as pd\n",
    "import numpy as np"
   ]
  },
  {
   "cell_type": "code",
   "execution_count": null,
   "id": "dfc3010d",
   "metadata": {},
   "outputs": [
    {
     "name": "stdout",
     "output_type": "stream",
     "text": [
      "181\n"
     ]
    }
   ],
   "source": [
    "total_events = 0\n",
    "\n",
    "for year in range(2018, 2026):\n",
    "    schedule = fastf1.get_event_schedule(year)\n",
    "    total_events += len(schedule)\n",
    "\n",
    "print(f'{total_events} total events')"
   ]
  },
  {
   "cell_type": "code",
   "execution_count": 9,
   "id": "6b03a21d",
   "metadata": {},
   "outputs": [
    {
     "name": "stdout",
     "output_type": "stream",
     "text": [
      "      driver_number              full_name name_acronym        team_name\n",
      "0                 1         Max VERSTAPPEN          VER  Red Bull Racing\n",
      "1                 2         Logan SARGEANT          SAR         Williams\n",
      "2                 4           Lando NORRIS          NOR          McLaren\n",
      "3                10           Pierre GASLY          GAS           Alpine\n",
      "4                11           Sergio PEREZ          PER  Red Bull Racing\n",
      "...             ...                    ...          ...              ...\n",
      "3828             12  Andrea Kimi ANTONELLI          ANT         Mercedes\n",
      "4631             28           Ryo HIRAKAWA          HIR          McLaren\n",
      "4635             39         Arthur LECLERC          LEL          Ferrari\n",
      "4945             12         Kimi ANTONELLI          ANT         Mercedes\n",
      "5593             45         Victor MARTINS          MAR         Williams\n",
      "\n",
      "[67 rows x 4 columns]\n"
     ]
    }
   ],
   "source": [
    "import requests\n",
    "import pandas as pd\n",
    "import time\n",
    "BASE_URL = 'https://api.openf1.org/v1/'\n",
    "\n",
    "data = []\n",
    "response = requests.get(BASE_URL + 'drivers')\n",
    "response.raise_for_status()\n",
    "data = response.json()\n",
    "data_df = pd.DataFrame(data)\n",
    "unique_drivers = data_df.drop_duplicates(subset='full_name')\n",
    "print(unique_drivers[['driver_number', 'full_name', 'name_acronym', 'team_name']])"
   ]
  },
  {
   "cell_type": "code",
   "execution_count": 11,
   "id": "0df5433f",
   "metadata": {},
   "outputs": [
    {
     "name": "stdout",
     "output_type": "stream",
     "text": [
      "0       Red Bull Racing\n",
      "1              Williams\n",
      "2               McLaren\n",
      "3                Alpine\n",
      "5          Aston Martin\n",
      "6               Ferrari\n",
      "7          Haas F1 Team\n",
      "8            AlphaTauri\n",
      "10           Alfa Romeo\n",
      "13             Mercedes\n",
      "1136               None\n",
      "2268                 RB\n",
      "2278        Kick Sauber\n",
      "4726       Racing Bulls\n",
      "Name: team_name, dtype: object\n"
     ]
    }
   ],
   "source": [
    "unique_teams = data_df.drop_duplicates(subset='team_name')\n",
    "print(unique_teams['team_name'])"
   ]
  },
  {
   "cell_type": "code",
   "execution_count": null,
   "id": "c28e211f",
   "metadata": {},
   "outputs": [],
   "source": [
    "total_laps = {}\n",
    "for year in range(2018, 2026):\n",
    "    year_laps = 0\n",
    "    for round in range(1,25):\n",
    "        try:\n",
    "            race = fastf1.get_session(year, round, 'R')\n",
    "            race.load(laps=True, telemetry=False, weather=False, messages=False, livedata=False)\n",
    "            lap_count = race.total_laps\n",
    "            year_laps += lap_count\n",
    "        except Exception as e:\n",
    "            print(f'Error: {str(e)}')\n",
    "            continue\n",
    "    total_laps[year] = year_laps\n"
   ]
  },
  {
   "cell_type": "code",
   "execution_count": 13,
   "id": "b6a5acf1",
   "metadata": {},
   "outputs": [
    {
     "name": "stdout",
     "output_type": "stream",
     "text": [
      "{2018: 115, 2019: 0, 2020: 1037, 2021: 1335, 2022: 1205, 2023: 1325, 2024: 1444, 2025: 537}\n"
     ]
    }
   ],
   "source": [
    "print(total_laps)"
   ]
  },
  {
   "cell_type": "markdown",
   "id": "5374e254",
   "metadata": {},
   "source": [
    "Scatter plot of finishing position vs. qualifying position with trend line.\n",
    "Visualizes relationship and predictive potential of qualifying on race outcomes."
   ]
  }
 ],
 "metadata": {
  "kernelspec": {
   "display_name": "Python 3",
   "language": "python",
   "name": "python3"
  },
  "language_info": {
   "codemirror_mode": {
    "name": "ipython",
    "version": 3
   },
   "file_extension": ".py",
   "mimetype": "text/x-python",
   "name": "python",
   "nbconvert_exporter": "python",
   "pygments_lexer": "ipython3",
   "version": "3.13.3"
  }
 },
 "nbformat": 4,
 "nbformat_minor": 5
}
